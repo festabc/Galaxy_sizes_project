{
 "cells": [
  {
   "cell_type": "code",
   "execution_count": 1,
   "metadata": {},
   "outputs": [
    {
     "name": "stdout",
     "output_type": "stream",
     "text": [
      "/Users/festabu/Desktop/ML_galaxy_size_project/Codes/simba/caesar\n"
     ]
    }
   ],
   "source": [
    "cd /Users/festabu/Desktop/ML_galaxy_size_project/Codes/simba/caesar\n"
   ]
  },
  {
   "cell_type": "code",
   "execution_count": 2,
   "metadata": {},
   "outputs": [
    {
     "name": "stdout",
     "output_type": "stream",
     "text": [
      "LICENSE          \u001b[34mcaesar\u001b[m\u001b[m/          \u001b[34mdocs\u001b[m\u001b[m/            setup.py\r\n",
      "README.rst       \u001b[34mcaesar.egg-info\u001b[m\u001b[m/ readthedocs.yml  \u001b[34mtests\u001b[m\u001b[m/\r\n",
      "\u001b[34mbuild\u001b[m\u001b[m/           \u001b[34mdist\u001b[m\u001b[m/            \u001b[34mscripts\u001b[m\u001b[m/\r\n"
     ]
    }
   ],
   "source": [
    "ls"
   ]
  },
  {
   "cell_type": "code",
   "execution_count": 3,
   "metadata": {},
   "outputs": [
    {
     "name": "stderr",
     "output_type": "stream",
     "text": [
      "/Users/festabu/opt/anaconda3/envs/festa_env/lib/python3.9/_collections_abc.py:684: MatplotlibDeprecationWarning: The global colormaps dictionary is no longer considered public API.\n",
      "  self[key]\n"
     ]
    }
   ],
   "source": [
    "import numpy as np\n",
    "import matplotlib.pyplot as plt\n",
    "\n",
    "import yt\n",
    "import caesar as caesar"
   ]
  },
  {
   "cell_type": "code",
   "execution_count": 4,
   "metadata": {},
   "outputs": [
    {
     "data": {
      "text/plain": [
       "'/Users/festabu/Desktop/ML_galaxy_size_project/Codes/simba/caesar'"
      ]
     },
     "execution_count": 4,
     "metadata": {},
     "output_type": "execute_result"
    }
   ],
   "source": [
    "pwd"
   ]
  },
  {
   "cell_type": "code",
   "execution_count": 5,
   "metadata": {
    "scrolled": false
   },
   "outputs": [
    {
     "name": "stderr",
     "output_type": "stream",
     "text": [
      "yt : [INFO     ] 2021-10-04 10:55:26,314 Opening /Users/festabu/Desktop/ML_galaxy_size_project/Codes/simba/m100n1024_151.hdf5\n",
      "yt : [INFO     ] 2021-10-04 10:55:26,493 Found 464043 halos\n",
      "yt : [INFO     ] 2021-10-04 10:55:26,559 Found 55609 galaxies\n"
     ]
    }
   ],
   "source": [
    "#snapnum,snapz=caesar.progen.z_to_snap(redshift=0)\n",
    "# load in input file\n",
    "obj = caesar.load('/Users/festabu/Desktop/ML_galaxy_size_project/Codes/simba/m100n1024_151.hdf5')"
   ]
  },
  {
   "cell_type": "code",
   "execution_count": 6,
   "metadata": {},
   "outputs": [],
   "source": [
    "snapnum,snapz=caesar.progen.z_to_snap(redshift=0)"
   ]
  },
  {
   "cell_type": "code",
   "execution_count": 7,
   "metadata": {},
   "outputs": [
    {
     "data": {
      "text/plain": [
       "151"
      ]
     },
     "execution_count": 7,
     "metadata": {},
     "output_type": "execute_result"
    }
   ],
   "source": [
    "snapnum"
   ]
  },
  {
   "cell_type": "code",
   "execution_count": 8,
   "metadata": {},
   "outputs": [
    {
     "data": {
      "text/plain": [
       "0.0"
      ]
     },
     "execution_count": 8,
     "metadata": {},
     "output_type": "execute_result"
    }
   ],
   "source": [
    "snapz"
   ]
  },
  {
   "cell_type": "code",
   "execution_count": 9,
   "metadata": {},
   "outputs": [
    {
     "data": {
      "text/plain": [
       "<caesar.loader.LazyList at 0x7fab446d7040>"
      ]
     },
     "execution_count": 9,
     "metadata": {},
     "output_type": "execute_result"
    }
   ],
   "source": [
    "obj.galaxies"
   ]
  },
  {
   "cell_type": "code",
   "execution_count": 68,
   "metadata": {},
   "outputs": [
    {
     "data": {
      "text/plain": [
       "55609"
      ]
     },
     "execution_count": 68,
     "metadata": {},
     "output_type": "execute_result"
    }
   ],
   "source": [
    "len(obj.galaxies)"
   ]
  },
  {
   "cell_type": "markdown",
   "metadata": {},
   "source": [
    "### Size"
   ]
  },
  {
   "cell_type": "code",
   "execution_count": 77,
   "metadata": {},
   "outputs": [],
   "source": [
    "#groups=caesar.load(caesarfilename)  \n",
    "rdisk=np.zeros_like(obj.galaxies)\n",
    "\n",
    "for i,galaxy in enumerate(obj.galaxies): \n",
    "#     a = galaxy.radii['stellar_half_mass'].value\n",
    "    rdisk[i]=galaxy.radii['stellar_half_mass'].to('kpc').value.item() # value: take the value and drop the unit, then  item: take the value from the array\n",
    "    # radii['stellar_half_mass'] unit is physical [kpc] (same as kpccm in this case bec z=0)"
   ]
  },
  {
   "cell_type": "code",
   "execution_count": 78,
   "metadata": {},
   "outputs": [
    {
     "data": {
      "text/plain": [
       "(55609,)"
      ]
     },
     "execution_count": 78,
     "metadata": {},
     "output_type": "execute_result"
    }
   ],
   "source": [
    "rdisk.shape"
   ]
  },
  {
   "cell_type": "code",
   "execution_count": 102,
   "metadata": {},
   "outputs": [
    {
     "data": {
      "text/plain": [
       "array([25.09231567382811, 11.32745170593261, 14.278414726257317, ...,\n",
       "       3.5468921661376935, 2.5424375534057604, 3.3614325523376447],\n",
       "      dtype=object)"
      ]
     },
     "execution_count": 102,
     "metadata": {},
     "output_type": "execute_result"
    }
   ],
   "source": [
    "rdisk"
   ]
  },
  {
   "cell_type": "code",
   "execution_count": 103,
   "metadata": {},
   "outputs": [],
   "source": [
    "rdisk_float=rdisk.astype(float) # convert mass array dtype=object into dtype=float"
   ]
  },
  {
   "cell_type": "code",
   "execution_count": 104,
   "metadata": {},
   "outputs": [
    {
     "data": {
      "text/plain": [
       "array([ True,  True,  True, ...,  True,  True,  True])"
      ]
     },
     "execution_count": 104,
     "metadata": {},
     "output_type": "execute_result"
    }
   ],
   "source": [
    "rdisk == rdisk_float"
   ]
  },
  {
   "cell_type": "code",
   "execution_count": 72,
   "metadata": {},
   "outputs": [
    {
     "data": {
      "text/plain": [
       "25.092315673828125 kpccm"
      ]
     },
     "execution_count": 72,
     "metadata": {},
     "output_type": "execute_result"
    }
   ],
   "source": [
    "obj.galaxies[0].radii['stellar_half_mass']"
   ]
  },
  {
   "cell_type": "code",
   "execution_count": 74,
   "metadata": {},
   "outputs": [
    {
     "data": {
      "text/plain": [
       "25.09231567382811 kpc"
      ]
     },
     "execution_count": 74,
     "metadata": {},
     "output_type": "execute_result"
    }
   ],
   "source": [
    "obj.galaxies[0].radii['stellar_half_mass'].to('kpc')"
   ]
  },
  {
   "cell_type": "markdown",
   "metadata": {},
   "source": [
    "### Mass"
   ]
  },
  {
   "cell_type": "code",
   "execution_count": 60,
   "metadata": {},
   "outputs": [],
   "source": [
    "mass=np.zeros_like(obj.galaxies)\n",
    "\n",
    "for i,galaxy in enumerate(obj.galaxies): \n",
    "#     a = galaxy.radii['stellar_half_mass'].value\n",
    "    mass[i]=galaxy.masses['stellar'].value.item() # value: take the value and drop the unit, then  item: take the value from the array\n",
    "    # mass unit is [Msun]"
   ]
  },
  {
   "cell_type": "code",
   "execution_count": 98,
   "metadata": {},
   "outputs": [
    {
     "data": {
      "text/plain": [
       "array([4464625319936.0, 4116048248832.0, 1952100777984.0, ...,\n",
       "       261078224.0, 261017904.0, 259381056.0], dtype=object)"
      ]
     },
     "execution_count": 98,
     "metadata": {},
     "output_type": "execute_result"
    }
   ],
   "source": [
    "#mass.astype(float)\n",
    "mass"
   ]
  },
  {
   "cell_type": "code",
   "execution_count": 99,
   "metadata": {},
   "outputs": [],
   "source": [
    "mass_float=mass.astype(float)"
   ]
  },
  {
   "cell_type": "code",
   "execution_count": 100,
   "metadata": {},
   "outputs": [
    {
     "data": {
      "text/plain": [
       "array([ True,  True,  True, ...,  True,  True,  True])"
      ]
     },
     "execution_count": 100,
     "metadata": {},
     "output_type": "execute_result"
    }
   ],
   "source": [
    "mass == mass_float"
   ]
  },
  {
   "cell_type": "code",
   "execution_count": 80,
   "metadata": {},
   "outputs": [
    {
     "data": {
      "text/plain": [
       "4464625319936.0 Msun"
      ]
     },
     "execution_count": 80,
     "metadata": {},
     "output_type": "execute_result"
    }
   ],
   "source": [
    "obj.galaxies[0].masses['stellar']"
   ]
  },
  {
   "cell_type": "markdown",
   "metadata": {},
   "source": [
    "### Logarithmic scale of size & mass"
   ]
  },
  {
   "cell_type": "code",
   "execution_count": 93,
   "metadata": {},
   "outputs": [
    {
     "data": {
      "text/plain": [
       "259381056.0"
      ]
     },
     "execution_count": 93,
     "metadata": {},
     "output_type": "execute_result"
    }
   ],
   "source": [
    "mass[55608]"
   ]
  },
  {
   "cell_type": "code",
   "execution_count": 105,
   "metadata": {},
   "outputs": [],
   "source": [
    "with np.errstate(divide='ignore'):\n",
    "    galaxy_mass_log = np.where(mass_float>0, np.log10(mass_float), 0)\n",
    "    galaxy_size_log = np.where(rdisk_float>0, np.log10(rdisk_float), 0)\n",
    "\n",
    "mask_non_zero = galaxy_mass_log>0\n",
    "galaxy_mass_log = galaxy_mass_log[mask_non_zero]\n",
    "galaxy_size_log = galaxy_size_log[mask_non_zero]\n",
    "\n",
    "# np.count_nonzero(galaxy_size)"
   ]
  },
  {
   "cell_type": "code",
   "execution_count": 107,
   "metadata": {},
   "outputs": [],
   "source": [
    "zero_mass = mass_float==0\n",
    "zero_size = rdisk_float==0"
   ]
  },
  {
   "cell_type": "code",
   "execution_count": 108,
   "metadata": {},
   "outputs": [
    {
     "data": {
      "text/plain": [
       "55609"
      ]
     },
     "execution_count": 108,
     "metadata": {},
     "output_type": "execute_result"
    }
   ],
   "source": [
    "np.sum(zero_mass == zero_size)"
   ]
  },
  {
   "cell_type": "code",
   "execution_count": 109,
   "metadata": {},
   "outputs": [
    {
     "data": {
      "text/plain": [
       "array([ True,  True,  True, ...,  True,  True,  True])"
      ]
     },
     "execution_count": 109,
     "metadata": {},
     "output_type": "execute_result"
    }
   ],
   "source": [
    "mask_non_zero"
   ]
  },
  {
   "cell_type": "code",
   "execution_count": 110,
   "metadata": {},
   "outputs": [
    {
     "data": {
      "text/plain": [
       "array([12.64978502, 12.61448046, 12.29050223, ...,  8.41677065,\n",
       "        8.4166703 ,  8.41393825])"
      ]
     },
     "execution_count": 110,
     "metadata": {},
     "output_type": "execute_result"
    }
   ],
   "source": [
    "galaxy_mass_log"
   ]
  },
  {
   "cell_type": "code",
   "execution_count": 111,
   "metadata": {},
   "outputs": [
    {
     "data": {
      "text/plain": [
       "(55609,)"
      ]
     },
     "execution_count": 111,
     "metadata": {},
     "output_type": "execute_result"
    }
   ],
   "source": [
    "galaxy_mass_log.shape"
   ]
  },
  {
   "cell_type": "code",
   "execution_count": 112,
   "metadata": {},
   "outputs": [
    {
     "data": {
      "text/plain": [
       "array([1.39954074, 1.05413222, 1.15467999, ..., 0.54984799, 0.40525029,\n",
       "       0.5265244 ])"
      ]
     },
     "execution_count": 112,
     "metadata": {},
     "output_type": "execute_result"
    }
   ],
   "source": [
    "galaxy_size_log"
   ]
  },
  {
   "cell_type": "code",
   "execution_count": 114,
   "metadata": {},
   "outputs": [
    {
     "data": {
      "text/plain": [
       "(55609,)"
      ]
     },
     "execution_count": 114,
     "metadata": {},
     "output_type": "execute_result"
    }
   ],
   "source": [
    "galaxy_size_log.shape"
   ]
  },
  {
   "cell_type": "code",
   "execution_count": 115,
   "metadata": {},
   "outputs": [
    {
     "data": {
      "text/plain": [
       "55609"
      ]
     },
     "execution_count": 115,
     "metadata": {},
     "output_type": "execute_result"
    }
   ],
   "source": [
    "np.count_nonzero(galaxy_size_log)"
   ]
  },
  {
   "cell_type": "markdown",
   "metadata": {},
   "source": [
    "### Size vs Mass plot"
   ]
  },
  {
   "cell_type": "markdown",
   "metadata": {},
   "source": [
    "#### 1D Histograms"
   ]
  },
  {
   "cell_type": "code",
   "execution_count": 148,
   "metadata": {},
   "outputs": [
    {
     "data": {
      "image/png": "[encoded data removed]",
      "text/plain": [
       "<Figure size 432x288 with 1 Axes>"
      ]
     },
     "metadata": {
      "needs_background": "light"
     },
     "output_type": "display_data"
    }
   ],
   "source": [
    "plt.hist(mass_float,bins=1000)\n",
    "plt.title('Simba - 1D Histogram of Galaxy Mass (not log scale)')\n",
    "plt.xscale('log')\n",
    "plt.ylabel('Counts')\n",
    "plt.xlabel('Galaxy Mass [$ M_\\odot $]')\n",
    "#plt.savefig(\"Simba_GalaxyStellarMass_Hist1D_nonlog.jpeg\", dpi=500)\n",
    "plt.show()"
   ]
  },
  {
   "cell_type": "code",
   "execution_count": 123,
   "metadata": {},
   "outputs": [
    {
     "data": {
      "image/png": "[encoded data removed]",
      "text/plain": [
       "<Figure size 432x288 with 1 Axes>"
      ]
     },
     "metadata": {
      "needs_background": "light"
     },
     "output_type": "display_data"
    }
   ],
   "source": [
    "plt.hist(galaxy_mass_log,bins=50)\n",
    "plt.title('Simba - 1D Histogram of Galaxy Mass')\n",
    "plt.ylabel('Counts')\n",
    "plt.xlabel('Galaxy Mass [$ M_\\odot $]($ Log_{10} $)')\n",
    "#plt.savefig(\"Simba_GalaxyStellarMass_Hist1D.jpeg\", dpi=500)\n",
    "plt.show()"
   ]
  },
  {
   "cell_type": "code",
   "execution_count": 149,
   "metadata": {},
   "outputs": [
    {
     "data": {
      "image/png": "[encoded data removed]",
      "text/plain": [
       "<Figure size 432x288 with 1 Axes>"
      ]
     },
     "metadata": {
      "needs_background": "light"
     },
     "output_type": "display_data"
    }
   ],
   "source": [
    "plt.hist(rdisk_float,bins=1000)\n",
    "plt.title('Simba - 1D Histogram of Galaxy Size (not log scale)')\n",
    "plt.ylabel('Counts')\n",
    "plt.xlabel('Galaxy Size [kpc]')\n",
    "#plt.savefig(\"Simba_GalaxySize_Hist1D_nonlog.jpeg\", dpi=500)\n",
    "plt.show()"
   ]
  },
  {
   "cell_type": "code",
   "execution_count": 124,
   "metadata": {},
   "outputs": [
    {
     "data": {
      "image/png": "[encoded data removed]",
      "text/plain": [
       "<Figure size 432x288 with 1 Axes>"
      ]
     },
     "metadata": {
      "needs_background": "light"
     },
     "output_type": "display_data"
    }
   ],
   "source": [
    "plt.hist(galaxy_size_log,bins=50)\n",
    "plt.title('Simba - 1D Histogram of Galaxy Size')\n",
    "plt.ylabel('Counts')\n",
    "plt.xlabel('Galaxy Size [kpc]($ Log_{10} $)')\n",
    "#plt.savefig(\"Simba_GalaxySize_Hist1D.jpeg\", dpi=500)\n",
    "plt.show()"
   ]
  },
  {
   "cell_type": "markdown",
   "metadata": {},
   "source": [
    "#### 2D Histogram"
   ]
  },
  {
   "cell_type": "code",
   "execution_count": 125,
   "metadata": {},
   "outputs": [
    {
     "data": {
      "image/png": "[encoded data removed]",
      "text/plain": [
       "<Figure size 432x288 with 2 Axes>"
      ]
     },
     "metadata": {
      "needs_background": "light"
     },
     "output_type": "display_data"
    }
   ],
   "source": [
    "# Figure using the Matplotlib hist2d\n",
    "\n",
    "plt.hist2d(galaxy_mass_log, galaxy_size_log, cmap = plt.cm.jet, bins=100)\n",
    "plt.title('Simba - 2D Histogram')\n",
    "plt.ylabel('Galaxy Size [kpc]($ Log_{10} $)')\n",
    "plt.xlabel('Galaxy Mass [$ M_\\odot $]($ Log_{10} $)')\n",
    "cbar2 = plt.colorbar()\n",
    "cbar2.ax.set_ylabel('Counts')\n",
    "#plt.savefig(\"Simba_GalaxyStellarMass_vs_Size_v1.jpeg\", dpi=500)\n",
    "plt.show()"
   ]
  },
  {
   "cell_type": "code",
   "execution_count": 126,
   "metadata": {},
   "outputs": [
    {
     "data": {
      "image/png": "[encoded data removed]",
      "text/plain": [
       "<Figure size 432x288 with 2 Axes>"
      ]
     },
     "metadata": {
      "needs_background": "light"
     },
     "output_type": "display_data"
    }
   ],
   "source": [
    "# Figure using the Matplotlib hist2d where histogram range is defined\n",
    "\n",
    "plt.hist2d(galaxy_mass_log, galaxy_size_log, cmap = plt.cm.jet, bins=50,  range=[[8.5,11.5],[0.2,1.0]]  )\n",
    "plt.title('Simba simulation - 2D Histogram')\n",
    "plt.ylabel('Galaxy Size [kpc]($ Log_{10} $)')\n",
    "plt.xlabel('Galaxy Mass [$ M_\\odot $]($ Log_{10} $)')\n",
    "plt.savefig(\"GalaxyStellarMass_vs_Size_Hist2D_pyplot_log_v2.jpeg\", dpi=500)\n",
    "cbar2 = plt.colorbar()\n",
    "cbar2.ax.set_ylabel('Counts')\n",
    "#plt.savefig(\"Simba_GalaxyStellarMass_vs_Size_Hist2D_v1.jpeg\", dpi=500)\n",
    "plt.show()"
   ]
  },
  {
   "cell_type": "code",
   "execution_count": null,
   "metadata": {},
   "outputs": [],
   "source": []
  }
 ],
 "metadata": {
  "kernelspec": {
   "display_name": "festa_env py3.9.1 ",
   "language": "python",
   "name": "myenv"
  },
  "language_info": {
   "codemirror_mode": {
    "name": "ipython",
    "version": 3
   },
   "file_extension": ".py",
   "mimetype": "text/x-python",
   "name": "python",
   "nbconvert_exporter": "python",
   "pygments_lexer": "ipython3",
   "version": "3.9.1"
  }
 },
 "nbformat": 4,
 "nbformat_minor": 4
}
